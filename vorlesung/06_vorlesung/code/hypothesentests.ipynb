{
 "cells": [
  {
   "cell_type": "markdown",
   "metadata": {},
   "source": [
    "# Hypothesentests\n",
    "## Erläuterung zu dieser Umgebung\n",
    "- Mit `<Umschalt>` + `<Enter>` ist es möglich Zellen auszuführen\n",
    "- Zellen können beliebig oft und in beliebiger Reihenfolge ausgeführt werden\n",
    "- Alle Variablen/Objekte werden so lange gespeichert bis ein Kernel-Restart durchgeführt wird (Kernel-Reset über Pulldown-Menü `Kernel`)\n",
    "- Ausgaben können direkt in der integrierten, graphischen Benutzeroberfläche (GUI) dargestellt werden (heutzutage werden GUIs oft auch mit _Notebook_ bezeichnet)\n",
    "- Um den Code dieses _Notebooks_ in eine Zelle zu laden muss die Zelle mit dem `%load` Befehl ausgeführt werden"
   ]
  },
  {
   "cell_type": "markdown",
   "metadata": {},
   "source": [
    "## 1. Kolmogorow-Smirnow-Test:"
   ]
  },
  {
   "cell_type": "code",
   "execution_count": 9,
   "metadata": {},
   "outputs": [],
   "source": [
    "%matplotlib inline"
   ]
  },
  {
   "cell_type": "code",
   "execution_count": 13,
   "metadata": {},
   "outputs": [
    {
     "name": "stdout",
     "output_type": "stream",
     "text": [
      "pruefe auf einem Signifikanzniveau von alpha =  5.0 % die Hypothese\n",
      "H0: Die Stichprobe ist normalverteilt\n",
      "0.06  < oder =  0.19  ==> Die Nullhypothese H0 wird akzeptiert\n"
     ]
    },
    {
     "data": {
      "image/png": "[encoded data removed]",
      "text/plain": [
       "<Figure size 432x288 with 1 Axes>"
      ]
     },
     "metadata": {
      "needs_background": "light"
     },
     "output_type": "display_data"
    }
   ],
   "source": [
    "# %load example_KSTest.py\n",
    "import numpy as np\n",
    "import matplotlib.pyplot as plt\n",
    "import scipy.special\n",
    "def cumulatives(x):\n",
    "    xbar = np.mean(x)\n",
    "    s = np.std(x, ddof=1)\n",
    "    J = len(x)\n",
    "    xsort = np.sort(x)\n",
    "    H = np.arange(1,J+1)/J;\n",
    "    z = (xsort - xbar)/s\n",
    "    # The cumulative of the unit normal distribution is given \n",
    "    # by Phi(z) = 1/2[1 + erf(z/sqrt(2))]\n",
    "    P = 0.5 * (1 + scipy.special.erf(z/np.sqrt(2)))\n",
    "    return P, H, xsort, xbar, s\n",
    "#\n",
    "# Hauptprogramm\n",
    "#\n",
    "# generiere synthetische Stichprobe\n",
    "stichprobenumfang = 51\n",
    "mu_1 = 42\n",
    "sigma_1 = 5\n",
    "stichprobe = np.random.normal(mu_1, sigma_1, stichprobenumfang)\n",
    "# \n",
    "# Aufgabenstellung Hypothesentest\n",
    "alpha = 0.05\n",
    "print('pruefe auf einem Signifikanzniveau von alpha = ', alpha*100, '% die Hypothese')\n",
    "print('H0: Die Stichprobe ist normalverteilt')\n",
    "#\n",
    "# Durchfuehrung des Kolmogorow-Smirnow-Tests:\n",
    "#\n",
    "# Berechnung der kumulativen Normalverteilung P und der empirischen\n",
    "# kumulativen Verteilung der Stichprobe H\n",
    "P, H, xsort, xbar, s = cumulatives(stichprobe)\n",
    "#\n",
    "# Berechnung der Pruef- oder Testgroesse\n",
    "Testgroesse = np.max(np.abs(H - P))\n",
    "#\n",
    "# Berechnung des Schwellwertes \n",
    "K_alphaJ = np.sqrt(-np.log(alpha/2)/(2*stichprobenumfang))\n",
    "#\n",
    "# Antwortsatz\n",
    "if (Testgroesse > K_alphaJ):\n",
    "    print(\"{:1.2f}\".format(Testgroesse), ' > ', \"{:1.2f}\".format(K_alphaJ), ' ==> Die Nullhypothese H0 wird verworfen')\n",
    "else:\n",
    "    print(\"{:1.2f}\".format(Testgroesse), ' < oder = ', \"{:1.2f}\".format(K_alphaJ), ' ==> Die Nullhypothese H0 wird akzeptiert')\n",
    "#\n",
    "# graphische Darstellung\n",
    "plt.figure(1)\n",
    "plt.plot(xsort, P, 'r-')\n",
    "plt.plot(xsort, H, 'kd')\n",
    "plt.grid()\n",
    "plt.xlabel('Zufallsgroesse')\n",
    "plt.ylabel('Wahrscheinlichkeit')\n",
    "plt.show()"
   ]
  },
  {
   "cell_type": "markdown",
   "metadata": {},
   "source": [
    "## 2. t-Test\n",
    "Quantile der kumulierten Wahrscheinlichkeitsdichtefunktion cdf werden auch _Percent point function_, _inverse of cdf_  oder _percentiles_ genannt"
   ]
  },
  {
   "cell_type": "code",
   "execution_count": 10,
   "metadata": {},
   "outputs": [
    {
     "name": "stdout",
     "output_type": "stream",
     "text": [
      "| -2.21 | >  1.98  ==> H0 verwerfen\n"
     ]
    }
   ],
   "source": [
    "import numpy as np\n",
    "import scipy.stats\n",
    "bar_y1 = 40.79\n",
    "bar_y2 = 43.08\n",
    "s1 = 4.83\n",
    "s2 = 5.52\n",
    "J1 = 50\n",
    "J2 = 50\n",
    "alpha = 0.05\n",
    "nu = J1 + J2 - 2\n",
    "T = (bar_y1 - bar_y2) / np.sqrt(s1**2/J1 + s2**2/J2)\n",
    "t_nu_alphahalbe = scipy.stats.t.ppf(1-alpha/2, nu, 0, 1)\n",
    "if (np.abs(T) < t_nu_alphahalbe):\n",
    "    print('|',\"{:1.2f}\".format(T), '| < oder gleich ', \"{:1.2f}\".format(t_nu_alphahalbe), ' ==> H0 annehmen')\n",
    "else:\n",
    "    print('|',\"{:1.2f}\".format(T), '| > ', \"{:1.2f}\".format(t_nu_alphahalbe), ' ==> H0 verwerfen')"
   ]
  },
  {
   "cell_type": "markdown",
   "metadata": {},
   "source": [
    "## 3. Berechnung der Quantile in Python für Chi2-Test und F-Test"
   ]
  },
  {
   "cell_type": "code",
   "execution_count": 8,
   "metadata": {},
   "outputs": [
    {
     "name": "stdout",
     "output_type": "stream",
     "text": [
      "31.55 70.22\n",
      "Prüfgröße T =  0.77\n",
      "Quantile der Fisherverteilung:  0.57 1.76\n"
     ]
    }
   ],
   "source": [
    "J1 = 50\n",
    "J2 = 50\n",
    "nu1 = J1 - 1\n",
    "nu2 = J2 - 1\n",
    "alpha = 0.05\n",
    "chi2_links = scipy.stats.chi2.ppf(alpha/2, nu1)\n",
    "chi2_rechts = scipy.stats.chi2.ppf(1-alpha/2, nu1)\n",
    "print(\"{:.2f}\".format(chi2_links), \"{:.2f}\".format(chi2_rechts))\n",
    "Frechts = scipy.stats.f.ppf(1-alpha/2, nu1, nu2)\n",
    "Flinks = scipy.stats.f.ppf(alpha/2, nu1, nu2)\n",
    "print('Prüfgröße T = ', \"{:.2f}\".format(s1**2/s2**2))\n",
    "print('Quantile der Fisherverteilung: ', \"{:.2f}\".format(Flinks), \"{:.2f}\".format(Frechts))"
   ]
  },
  {
   "cell_type": "markdown",
   "metadata": {},
   "source": [
    "## 4. Statistische Momente - Vergleich t-Verteilung vs. Gaussverteilung"
   ]
  },
  {
   "cell_type": "code",
   "execution_count": 14,
   "metadata": {},
   "outputs": [
    {
     "name": "stdout",
     "output_type": "stream",
     "text": [
      "             t-Vert. Gauss\n",
      "Standardabw:  1.25    1.00\n",
      "Kurtosis:     3.97    3.00\n"
     ]
    },
    {
     "data": {
      "image/png": "[encoded data removed]",
      "text/plain": [
       "<Figure size 432x288 with 1 Axes>"
      ]
     },
     "metadata": {
      "needs_background": "light"
     },
     "output_type": "display_data"
    }
   ],
   "source": [
    "nu = 4\n",
    "x = np.linspace(scipy.stats.t.ppf(0.005, nu), scipy.stats.t.ppf(0.995, nu), 200)\n",
    "p_t = scipy.stats.t.pdf(x, nu, 0, 1)\n",
    "p_g = np.exp(-0.5*x**2) / np.sqrt(2 * np.pi)\n",
    "plt.figure(7)\n",
    "plt.plot(x, p_t, 'b-')\n",
    "plt.plot(x, p_g, 'r-')\n",
    "s_t = np.sqrt(np.sum(p_t * x**2) / np.sum(p_t))\n",
    "s_g = np.sqrt(np.sum(p_g * x**2) / np.sum(p_g))\n",
    "kurt_t = np.sum(p_t * (x/s_t)**4) / np.sum(p_t)\n",
    "kurt_g = np.sum(p_g * (x/s_g)**4) / np.sum(p_g)\n",
    "print('             t-Vert. Gauss')\n",
    "print('Standardabw: ', \"{:1.2f}\".format(s_t), '  ', \"{:1.2f}\".format(s_g))\n",
    "print('Kurtosis:    ', \"{:1.2f}\".format(kurt_t), '  ', \"{:1.2f}\".format(kurt_g))"
   ]
  },
  {
   "cell_type": "code",
   "execution_count": null,
   "metadata": {},
   "outputs": [],
   "source": [
    "x_bar = np.array([41.813, 41.854, 39.084, 42.117, 41.532, 40.428, 42.717,\\\n",
    "                 39.727, 40.858, 39.670, 44.351, 42.011, 41.935, 44.509, 39.921])\n",
    "s_bar = np.array([1.295, 1.541, 1.399, 1.546, 1.286, 1.503, 1.501, 1.488,\\\n",
    "                 1.714, 1.530, 1.216, 1.532, 1.417, 1.576, 1.417])\n",
    "K = len(x_bar)\n",
    "nu = 24\n",
    "alpha = 0.05\n",
    "tquantil = scipy.stats.t.ppf(1 - alpha/2, nu)\n",
    "plt.figure(11)\n",
    "plt.errorbar(np.arange(0, K), x_bar, tquantil*s_bar, ecolor='blue',\\\n",
    "             marker='o', mfc='white', mec='blue', ms=10, mew=1, ls='none')\n",
    "plt.plot([0, K], [41.502, 41.502], 'r-')\n",
    "plt.ylabel(r'$\\bar x$')\n",
    "plt.figure(12)\n",
    "plt.plot(np.arange(0, K), s_bar, 'bo')\n",
    "plt.plot([0, K], [1.606, 1.606], 'r-')\n",
    "plt.ylabel(r'$\\bar s$')"
   ]
  },
  {
   "cell_type": "code",
   "execution_count": null,
   "metadata": {},
   "outputs": [],
   "source": []
  }
 ],
 "metadata": {
  "anaconda-cloud": {},
  "kernelspec": {
   "display_name": "Python 3",
   "language": "python",
   "name": "python3"
  },
  "language_info": {
   "codemirror_mode": {
    "name": "ipython",
    "version": 3
   },
   "file_extension": ".py",
   "mimetype": "text/x-python",
   "name": "python",
   "nbconvert_exporter": "python",
   "pygments_lexer": "ipython3",
   "version": "3.6.8"
  }
 },
 "nbformat": 4,
 "nbformat_minor": 4
}
